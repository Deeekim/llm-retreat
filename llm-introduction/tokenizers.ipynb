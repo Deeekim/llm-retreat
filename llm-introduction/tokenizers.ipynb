{
 "cells": [
  {
   "cell_type": "code",
   "execution_count": 36,
   "id": "b10ecdec",
   "metadata": {},
   "outputs": [
    {
     "name": "stdout",
     "output_type": "stream",
     "text": [
      "tensor([[ 1045,  1005,  2310,  2042,  7568,  2000,  3046, 17662,  2227,   999],\n",
      "        [ 1045,  5223,  2023,   999,     0,     0,     0,     0,     0,     0]])\n",
      "Logits:  tensor([[-2.1128,  2.2470],\n",
      "        [ 3.6696, -3.0004]], grad_fn=<AddmmBackward0>)\n"
     ]
    }
   ],
   "source": [
    "import torch\n",
    "from transformers import AutoTokenizer, AutoModelForSequenceClassification\n",
    "import numpy as np\n",
    "\n",
    "sqnce1 = \"I've been excited to try Hugging Face!\"\n",
    "sqnce2 = \"I hate this!\"\n",
    "\n",
    "model_checkpoint = \"distilbert-base-uncased-finetuned-sst-2-english\"\n",
    "tokenizer = AutoTokenizer.from_pretrained(model_checkpoint)\n",
    "model = AutoModelForSequenceClassification.from_pretrained(model_checkpoint)\n",
    "\n",
    "tokens1 = tokenizer.tokenize(sqnce1)\n",
    "ids1 = tokenizer.convert_tokens_to_ids(tokens1)\n",
    "\n",
    "tokens2 = tokenizer.tokenize(sqnce2)\n",
    "ids2 = tokenizer.convert_tokens_to_ids(tokens2)\n",
    "\n",
    "batch_ids = [ids1, ids2 + [tokenizer.pad_token_id for i in range(len(ids1) - len(ids2))]]\n",
    "\n",
    "attention_mask = [\n",
    "    [1 for i in range(len(ids1))],\n",
    "    [1 for i in range(len(ids2))] + [0 for i in range(len(ids1) - len(ids2))]\n",
    "]\n",
    "\n",
    "input_ids = torch.tensor(batch_ids)\n",
    "\n",
    "print(input_ids)\n",
    "\n",
    "output = model(input_ids, attention_mask = torch.tensor(attention_mask))\n",
    "print(\"Logits: \", output.logits)"
   ]
  }
 ],
 "metadata": {
  "kernelspec": {
   "display_name": "NER",
   "language": "python",
   "name": "python3"
  },
  "language_info": {
   "codemirror_mode": {
    "name": "ipython",
    "version": 3
   },
   "file_extension": ".py",
   "mimetype": "text/x-python",
   "name": "python",
   "nbconvert_exporter": "python",
   "pygments_lexer": "ipython3",
   "version": "3.11.13"
  }
 },
 "nbformat": 4,
 "nbformat_minor": 5
}
